{
 "cells": [
  {
   "attachments": {},
   "cell_type": "markdown",
   "metadata": {},
   "source": [
    "# Tutorial\n",
    "\n",
    "GLHMM is a Python toolbox with a focus on neuroscience applications but broadly applicable to other domains as well. It implements a generalisation of various types of Hidden Markov Model ([HMM](../glossary.md)). The toolbox can be applied on multiple data modalities, including fMRI, EEG, MEG and ECoG, and offers a comprehensive set of HMMs tailored for different data types and analysis goals. The most important configurable aspect is the state distribution, which is parametrised using a regression model. A non-exhaustive list of possible state distributions are: \n",
    "\n",
    "-  `Gaussian` : used in fMRI and other neuroimaging modalities.\n",
    "-  `Wishart` : employed in fMRI to specifically focus on changes in connectivity (covariance).\n",
    "-  `Time-delay embedded` : applied to whole-brain electrophysiological data (MEG or EEG), to capture spectral modulations in the data.\n",
    "-  `Autoregressive` : provides a more detailed spectral description for electrophysiological data with a limited number of channels.\n",
    "-  `Regression-based decoding` : describes the dynamic relationship between brain activity and ongoing stimuli.\n",
    "-  `Regression-based encoding` : emphasizes the spatial interpretation of brain activity in relation to stimuli.\n",
    "\n",
    "\n",
    "## Import modules\n",
    "We first import the relevant modules. If you have not done so, install the repo using:"
   ]
  },
  {
   "cell_type": "code",
   "execution_count": 3,
   "metadata": {
    "vscode": {
     "languageId": "bat"
    }
   },
   "outputs": [
    {
     "name": "stdout",
     "output_type": "stream",
     "text": [
      "Requirement already satisfied: glhmm in /Library/Frameworks/Python.framework/Versions/3.10/lib/python3.10/site-packages (0.1.13)\n",
      "Requirement already satisfied: scipy in /Library/Frameworks/Python.framework/Versions/3.10/lib/python3.10/site-packages (from glhmm) (1.9.1)\n",
      "Requirement already satisfied: numpy in /Library/Frameworks/Python.framework/Versions/3.10/lib/python3.10/site-packages (from glhmm) (1.23.3)\n",
      "Requirement already satisfied: scikit-learn in /Library/Frameworks/Python.framework/Versions/3.10/lib/python3.10/site-packages (from glhmm) (1.1.2)\n",
      "Requirement already satisfied: matplotlib in /Library/Frameworks/Python.framework/Versions/3.10/lib/python3.10/site-packages (from glhmm) (3.7.0)\n",
      "Requirement already satisfied: numba in /Library/Frameworks/Python.framework/Versions/3.10/lib/python3.10/site-packages (from glhmm) (0.56.4)\n",
      "Requirement already satisfied: seaborn in /Library/Frameworks/Python.framework/Versions/3.10/lib/python3.10/site-packages (from glhmm) (0.12.2)\n",
      "Requirement already satisfied: pandas in /Library/Frameworks/Python.framework/Versions/3.10/lib/python3.10/site-packages (from glhmm) (1.5.3)\n",
      "Requirement already satisfied: contourpy>=1.0.1 in /Library/Frameworks/Python.framework/Versions/3.10/lib/python3.10/site-packages (from matplotlib->glhmm) (1.0.5)\n",
      "Requirement already satisfied: cycler>=0.10 in /Library/Frameworks/Python.framework/Versions/3.10/lib/python3.10/site-packages (from matplotlib->glhmm) (0.11.0)\n",
      "Requirement already satisfied: fonttools>=4.22.0 in /Library/Frameworks/Python.framework/Versions/3.10/lib/python3.10/site-packages (from matplotlib->glhmm) (4.37.4)\n",
      "Requirement already satisfied: kiwisolver>=1.0.1 in /Library/Frameworks/Python.framework/Versions/3.10/lib/python3.10/site-packages (from matplotlib->glhmm) (1.4.4)\n",
      "Requirement already satisfied: packaging>=20.0 in /Library/Frameworks/Python.framework/Versions/3.10/lib/python3.10/site-packages (from matplotlib->glhmm) (21.3)\n",
      "Requirement already satisfied: pillow>=6.2.0 in /Library/Frameworks/Python.framework/Versions/3.10/lib/python3.10/site-packages (from matplotlib->glhmm) (9.2.0)\n",
      "Requirement already satisfied: pyparsing>=2.3.1 in /Library/Frameworks/Python.framework/Versions/3.10/lib/python3.10/site-packages (from matplotlib->glhmm) (3.0.9)\n",
      "Requirement already satisfied: python-dateutil>=2.7 in /Library/Frameworks/Python.framework/Versions/3.10/lib/python3.10/site-packages (from matplotlib->glhmm) (2.8.2)\n",
      "Requirement already satisfied: llvmlite<0.40,>=0.39.0dev0 in /Library/Frameworks/Python.framework/Versions/3.10/lib/python3.10/site-packages (from numba->glhmm) (0.39.1)\n",
      "Requirement already satisfied: setuptools in /Users/admin/Library/Python/3.10/lib/python/site-packages (from numba->glhmm) (65.6.3)\n",
      "Requirement already satisfied: pytz>=2020.1 in /Library/Frameworks/Python.framework/Versions/3.10/lib/python3.10/site-packages (from pandas->glhmm) (2022.6)\n",
      "Requirement already satisfied: joblib>=1.0.0 in /Library/Frameworks/Python.framework/Versions/3.10/lib/python3.10/site-packages (from scikit-learn->glhmm) (1.2.0)\n",
      "Requirement already satisfied: threadpoolctl>=2.0.0 in /Library/Frameworks/Python.framework/Versions/3.10/lib/python3.10/site-packages (from scikit-learn->glhmm) (3.1.0)\n",
      "Requirement already satisfied: six>=1.5 in /Library/Frameworks/Python.framework/Versions/3.10/lib/python3.10/site-packages (from python-dateutil>=2.7->matplotlib->glhmm) (1.16.0)\n",
      "\n",
      "\u001b[1m[\u001b[0m\u001b[34;49mnotice\u001b[0m\u001b[1;39;49m]\u001b[0m\u001b[39;49m A new release of pip is available: \u001b[0m\u001b[31;49m23.1.2\u001b[0m\u001b[39;49m -> \u001b[0m\u001b[32;49m23.3.1\u001b[0m\n",
      "\u001b[1m[\u001b[0m\u001b[34;49mnotice\u001b[0m\u001b[1;39;49m]\u001b[0m\u001b[39;49m To update, run: \u001b[0m\u001b[32;49mpython3 -m pip install --upgrade pip\u001b[0m\n",
      "Note: you may need to restart the kernel to use updated packages.\n"
     ]
    }
   ],
   "source": [
    "pip install glhmm"
   ]
  },
  {
   "cell_type": "code",
   "execution_count": 4,
   "metadata": {},
   "outputs": [],
   "source": [
    "import numpy as np\n",
    "import pandas as pd\n",
    "import matplotlib.pyplot as plt\n",
    "import glhmm.glhmm as glhmm"
   ]
  },
  {
   "attachments": {},
   "cell_type": "markdown",
   "metadata": {},
   "source": [
    "## Load data\n",
    "Synthetic data are provided as example in the ´glhmm/docs/notebooks/example1´ folder. The file `data.csv` contains synthetic timeseries. The data should have the shape ((no subjects/sessions * no timepoints), no features), meaning that all subjects and/or sessions have been concatenated along the first dimension. The second dimension is the number of features, e.g., the number of parcels or channels. The file `T.csv` specifies the indices in the concatenated timeseries corresponding to the beginning and end of individual subjects/sessions in the shape (no subjects, 2). In this case, we have generated timeseries for 20 subjects and 50 features. Each subject has 1,000 timepoints. The timeseries has the shape (20000, 50) and the indices have the shape (20, 2).\n",
    "Data should be in numpy format."
   ]
  },
  {
   "cell_type": "code",
   "execution_count": 5,
   "metadata": {},
   "outputs": [],
   "source": [
    "data_tmp = pd.read_csv('example1/data.csv', header=None)\n",
    "T_t_tmp = pd.read_csv('example1/T.csv', header=None)\n",
    "data = data_tmp.to_numpy()\n",
    "T_t = T_t_tmp.to_numpy()"
   ]
  },
  {
   "attachments": {},
   "cell_type": "markdown",
   "metadata": {},
   "source": [
    "## Initialise and train HMM\n",
    "\n",
    "This is an example of a ``Gaussian HMM`` on a single set of timeseries from multiple subjects or sessions; the full code is [here](example1/example1.ipynb)\n",
    "\n",
    "We first initialise the hmm object, configuring the type of HMM that is going to be run. In this case, since we do not model an interaction between two sets of variables in the HMM states, we set `model_beta='no'`. We here estimate 4 states. If you want to model a different number of states, change K to a different value. We here model states as Gaussian distributions with mean and full covariance matrix, so that each state is described by a mean amplitude and functional connectivity pattern, specify `covtype='full'`. If you do not want to model the mean, add `model_mean='no'`. "
   ]
  },
  {
   "cell_type": "code",
   "execution_count": 6,
   "metadata": {},
   "outputs": [],
   "source": [
    "hmm = glhmm.glhmm(model_beta='no', K=4, covtype='full')"
   ]
  },
  {
   "attachments": {},
   "cell_type": "markdown",
   "metadata": {},
   "source": [
    "We then train the HMM using the data and indices loaded above. Since we here do not model an interaction between two sets of timeseries but run a \"classic\" HMM instead, we set `X=None`. Y should be the timeseries in which we want to estimate states (in here called data) and indices should be the beginning and end indices of each subject (here called T_t). If you need to make indices you can use the `auxiliary.make_indices_from_T` function.\n",
    "\n",
    "Optionally, you can also return `Gamma` (the state probabilities at each timepoint), `Xi` (the joint probabilities of past and future states conditioned on the data) and `FE` (the free energy of each iteration). "
   ]
  },
  {
   "cell_type": "code",
   "execution_count": 7,
   "metadata": {},
   "outputs": [
    {
     "name": "stdout",
     "output_type": "stream",
     "text": [
      "Init repetition 1 free energy = 1380077.4504451659\n",
      "Init repetition 2 free energy = 1377872.3064660016\n",
      "Init repetition 3 free energy = 1378803.0680537764\n",
      "Init repetition 4 free energy = 1379535.3606174032\n",
      "Init repetition 5 free energy = 1379893.7764895353\n",
      "Best repetition: 2\n",
      "Cycle 1 free energy = 1377741.863101995\n",
      "Cycle 2 free energy = 1377173.379024121\n",
      "Cycle 3, free energy = 1376845.1330762226, relative change = 0.366047682651871\n",
      "Cycle 4, free energy = 1376589.0041371305, relative change = 0.22216849319659338\n",
      "Cycle 5, free energy = 1376343.7990881375, relative change = 0.17538899976147132\n",
      "Cycle 6, free energy = 1376135.3333575656, relative change = 0.12976151315885762\n",
      "Cycle 7, free energy = 1375968.4820480214, relative change = 0.09408655244754274\n",
      "Cycle 8, free energy = 1375834.6821646101, relative change = 0.07015584142463518\n",
      "Cycle 9, free energy = 1375701.591002333, relative change = 0.0652320650266179\n",
      "Cycle 10, free energy = 1375574.4090449237, relative change = 0.058678040715242866\n",
      "Cycle 11, free energy = 1375488.4201479363, relative change = 0.03815889673733395\n",
      "Cycle 12, free energy = 1375415.3006940235, relative change = 0.03142810769326524\n",
      "Cycle 13, free energy = 1375353.219772152, relative change = 0.025990034215641306\n",
      "Cycle 14, free energy = 1375310.0998031765, relative change = 0.01773197621510979\n",
      "Cycle 15, free energy = 1375273.801236379, relative change = 0.014707316418283479\n",
      "Cycle 16, free energy = 1375240.6360556367, relative change = 0.013259564256895834\n",
      "Cycle 17, free energy = 1375215.066847668, relative change = 0.010119220307086315\n",
      "Cycle 18, free energy = 1375195.5581642021, relative change = 0.007661566050606799\n",
      "Cycle 19, free energy = 1375179.0578131946, relative change = 0.006438394317222968\n",
      "Cycle 20, free energy = 1375162.9959374259, relative change = 0.006228267973386456\n",
      "Cycle 21, free energy = 1375147.485895163, relative change = 0.0059783296824059045\n",
      "Cycle 22, free energy = 1375134.1352934425, relative change = 0.005119630076653281\n",
      "Cycle 23, free energy = 1375121.8777588417, relative change = 0.004678474493312021\n",
      "Cycle 24, free energy = 1375112.0540430956, relative change = 0.0037355243388965884\n",
      "Cycle 25, free energy = 1375104.4232174738, relative change = 0.0028932699723540536\n",
      "Cycle 26, free energy = 1375098.6356284372, relative change = 0.0021895917375723754\n",
      "Cycle 27, free energy = 1375091.810512644, relative change = 0.002575464283455241\n",
      "Cycle 28, free energy = 1375083.616071524, relative change = 0.0030826484619285136\n",
      "Cycle 29, free energy = 1375076.0835285005, relative change = 0.0028256436122766682\n",
      "Cycle 30, free energy = 1375067.9225435671, relative change = 0.0030520442601664616\n",
      "Cycle 31, free energy = 1375060.6669154665, relative change = 0.0027061160750010385\n",
      "Cycle 32, free energy = 1375049.5953426661, relative change = 0.004112359464260484\n",
      "Cycle 33, free energy = 1375037.6380029747, relative change = 0.004421724987241395\n",
      "Cycle 34, free energy = 1375030.2113506391, relative change = 0.002738792815798747\n",
      "Cycle 35, free energy = 1375024.492615745, relative change = 0.0021045105638400727\n",
      "Cycle 36, free energy = 1375018.8593987469, relative change = 0.0020687511336670026\n",
      "Cycle 37, free energy = 1375013.1852631595, relative change = 0.002079445036220267\n",
      "Cycle 38, free energy = 1375006.21366842, relative change = 0.0025484240246242407\n",
      "Cycle 39, free energy = 1374999.2543766045, relative change = 0.002537471623675998\n",
      "Cycle 40, free energy = 1374993.0668781092, relative change = 0.002250984791614917\n",
      "Cycle 41, free energy = 1374983.8573119496, relative change = 0.0033392120469361393\n",
      "Cycle 42, free energy = 1374974.0572072046, relative change = 0.003540748563116697\n",
      "Cycle 43, free energy = 1374962.9567085553, relative change = 0.003994556518887076\n",
      "Cycle 44, free energy = 1374953.6915440224, relative change = 0.003323025265944675\n",
      "Cycle 45, free energy = 1374948.8268972635, relative change = 0.0017417055857146468\n",
      "Cycle 46, free energy = 1374944.5356945405, relative change = 0.0015340366349727201\n",
      "Cycle 47, free energy = 1374938.7661784873, relative change = 0.0020582649157646713\n",
      "Cycle 48, free energy = 1374932.476365085, relative change = 0.0022388563737791188\n",
      "Cycle 49, free energy = 1374928.804706375, relative change = 0.00130521951325113\n",
      "Cycle 50, free energy = 1374925.795773862, relative change = 0.001068487419716469\n",
      "Cycle 51, free energy = 1374922.6801461428, relative change = 0.0011051527225722493\n",
      "Cycle 52, free energy = 1374919.286192921, relative change = 0.0012024307330436692\n",
      "Cycle 53, free energy = 1374915.2835779255, relative change = 0.001416063111396891\n",
      "Cycle 54, free energy = 1374911.1535835867, relative change = 0.0014589961675637087\n",
      "Cycle 55, free energy = 1374905.1597488897, relative change = 0.0021129578778061073\n",
      "Cycle 56, free energy = 1374896.2549520934, relative change = 0.0031293123744717674\n",
      "Cycle 57, free energy = 1374887.2814585345, relative change = 0.003143540693389296\n",
      "Cycle 58, free energy = 1374880.0890558616, relative change = 0.002513267140245205\n",
      "Cycle 59, free energy = 1374872.8962178894, relative change = 0.002507117810262238\n",
      "Cycle 60, free energy = 1374868.1696080347, relative change = 0.0016447856616093285\n",
      "Cycle 61, free energy = 1374864.7003597785, relative change = 0.0012057879817766856\n",
      "Cycle 62, free energy = 1374861.4786655486, relative change = 0.0011184945277109505\n",
      "Cycle 63, free energy = 1374857.308470918, relative change = 0.0014456979200820712\n",
      "Cycle 64, free energy = 1374849.7575099315, relative change = 0.0026108870323971354\n",
      "Cycle 65, free energy = 1374839.204620054, relative change = 0.003635594729148982\n",
      "Cycle 66, free energy = 1374825.4012786075, relative change = 0.004732906611618696\n",
      "Cycle 67, free energy = 1374817.5969675602, relative change = 0.0026688101180012596\n",
      "Cycle 68, free energy = 1374810.6486582318, relative change = 0.0023704541109883562\n",
      "Cycle 69, free energy = 1374805.797099116, relative change = 0.0016524012440623725\n",
      "Cycle 70, free energy = 1374800.2866402033, relative change = 0.0018733012669485088\n",
      "Cycle 71, free energy = 1374794.874383284, relative change = 0.0018365380515200569\n",
      "Cycle 72, free energy = 1374791.070303242, relative change = 0.0012891721993032415\n",
      "Cycle 73, free energy = 1374786.817977041, relative change = 0.001439005504531884\n",
      "Cycle 74, free energy = 1374782.9368290522, relative change = 0.0013116744490490211\n",
      "Cycle 75, free energy = 1374779.094162128, relative change = 0.0012969850171322915\n",
      "Cycle 76, free energy = 1374776.0334471592, relative change = 0.0010319928400885818\n",
      "Cycle 77, free energy = 1374773.1981533312, relative change = 0.0009550737038614459\n",
      "Cycle 78, free energy = 1374770.6919724469, relative change = 0.0008434993391638254\n",
      "Cycle 79, free energy = 1374768.3351198607, relative change = 0.0007926115376444444\n",
      "Cycle 80, free energy = 1374764.834520801, relative change = 0.0011758701551793033\n",
      "Cycle 81, free energy = 1374759.0810781699, relative change = 0.0019288847073460286\n",
      "Cycle 82, free energy = 1374753.1430372037, relative change = 0.001986817379158769\n",
      "Cycle 83, free energy = 1374748.936359892, relative change = 0.0014055396854927528\n",
      "Cycle 84, free energy = 1374745.2155943091, relative change = 0.00124164272681665\n",
      "Cycle 85, free energy = 1374738.2741508742, relative change = 0.002311049730132378\n",
      "Cycle 86, free energy = 1374729.0445185383, relative change = 0.0030634543966992127\n",
      "Cycle 87, free energy = 1374723.718033971, relative change = 0.0017648205925171491\n",
      "Cycle 88, free energy = 1374718.7508527064, relative change = 0.0016430687500354531\n",
      "Cycle 89, free energy = 1374713.4582364594, relative change = 0.0017476580846895677\n",
      "Cycle 90, free energy = 1374708.1910163541, relative change = 0.0017362522898266772\n",
      "Cycle 91, free energy = 1374702.32633905, relative change = 0.0019294641787739582\n",
      "Cycle 92, free energy = 1374695.0496005537, relative change = 0.002388311097092738\n",
      "Cycle 93, free energy = 1374687.5678030928, relative change = 0.0024495985910796395\n",
      "Cycle 94, free energy = 1374681.0425682017, relative change = 0.002131858048865964\n",
      "Cycle 95, free energy = 1374676.2042009733, relative change = 0.0015782470863877124\n",
      "Cycle 96, free energy = 1374671.0775871824, relative change = 0.0016694796058332232\n",
      "Cycle 97, free energy = 1374663.8554523147, relative change = 0.0023463667702167765\n",
      "Cycle 98, free energy = 1374656.4131963686, relative change = 0.002412048866046322\n",
      "Cycle 99, free energy = 1374650.0920978875, relative change = 0.0020444911581984134\n",
      "Cycle 100, free energy = 1374642.410976372, relative change = 0.0024782191188165424\n",
      "Finished training in 49.77s : active states = 4\n"
     ]
    },
    {
     "data": {
      "text/plain": [
       "(array([[1.06829940e-02, 4.23546316e-05, 1.55358457e-01, 8.33916195e-01],\n",
       "        [3.11141449e-03, 9.32632180e-06, 1.41659570e-01, 8.55219689e-01],\n",
       "        [1.53200355e-04, 2.03331524e-06, 2.36315072e-02, 9.76213259e-01],\n",
       "        ...,\n",
       "        [1.53819347e-05, 4.86693453e-08, 9.99905498e-01, 7.90709650e-05],\n",
       "        [1.80782979e-05, 2.53756892e-07, 9.98608085e-01, 1.37358319e-03],\n",
       "        [2.66086368e-04, 1.42253006e-05, 9.89672331e-01, 1.00473570e-02]]),\n",
       " array([[[2.61525507e-03, 3.43020524e-07, 1.04247633e-03, 7.02491954e-03],\n",
       "         [2.13812832e-07, 2.34174040e-07, 8.01769069e-06, 3.38889540e-05],\n",
       "         [1.94881211e-04, 5.25365615e-06, 1.36999222e-01, 1.81591000e-02],\n",
       "         [3.01064395e-04, 3.49547109e-06, 3.60985382e-03, 8.30001781e-01]],\n",
       " \n",
       "        [[6.39475647e-05, 7.93726046e-09, 1.18954944e-05, 3.03556349e-03],\n",
       "         [3.30658336e-09, 3.42708620e-09, 5.78630531e-08, 9.26172508e-06],\n",
       "         [7.16981078e-05, 1.82911048e-06, 2.35213456e-02, 1.18064697e-01],\n",
       "         [1.75513759e-05, 1.92840413e-07, 9.82081934e-05, 8.55103737e-01]],\n",
       " \n",
       "        [[4.19336661e-05, 2.59489499e-10, 9.76438845e-07, 1.10289991e-04],\n",
       "         [1.28337866e-08, 6.63148356e-10, 2.81125609e-08, 1.99170575e-06],\n",
       "         [1.77275661e-04, 2.25471520e-07, 7.27993181e-03, 1.61740742e-02],\n",
       "         [3.61414468e-04, 1.97971536e-07, 2.53142938e-04, 9.75598504e-01]],\n",
       " \n",
       "        ...,\n",
       " \n",
       "        [[1.44514369e-06, 2.48347862e-11, 6.00150949e-05, 1.47922795e-07],\n",
       "         [9.40699786e-12, 1.34989307e-12, 3.67505542e-08, 5.68162042e-11],\n",
       "         [1.36467753e-05, 4.82019998e-08, 9.99483174e-01, 4.84564021e-05],\n",
       "         [2.90006248e-07, 4.41160898e-10, 3.62272099e-04, 3.04665833e-05]],\n",
       " \n",
       "        [[4.35806894e-07, 3.05174094e-11, 1.40064965e-05, 9.39600719e-07],\n",
       "         [1.54396834e-11, 9.02798621e-12, 4.66806821e-08, 1.96419559e-09],\n",
       "         [1.76176148e-05, 2.53563245e-07, 9.98569997e-01, 1.31762979e-03],\n",
       "         [2.48607707e-08, 1.54102052e-10, 2.40341118e-05, 5.50118384e-05]],\n",
       " \n",
       "        [[4.38346951e-06, 1.16228225e-09, 9.44539531e-06, 4.24827081e-06],\n",
       "         [9.64467177e-10, 2.13540373e-09, 1.95502800e-07, 5.51542208e-08],\n",
       "         [2.60406744e-04, 1.41916034e-05, 9.89578742e-01, 8.75474461e-03],\n",
       "         [1.29519004e-06, 3.03995655e-08, 8.39486493e-05, 1.28830896e-03]]]),\n",
       " array([1377741.863102  , 1377173.37902412, 1376845.13307622,\n",
       "        1376589.00413713, 1376343.79908814, 1376135.33335757,\n",
       "        1375968.48204802, 1375834.68216461, 1375701.59100233,\n",
       "        1375574.40904492, 1375488.42014794, 1375415.30069402,\n",
       "        1375353.21977215, 1375310.09980318, 1375273.80123638,\n",
       "        1375240.63605564, 1375215.06684767, 1375195.5581642 ,\n",
       "        1375179.05781319, 1375162.99593743, 1375147.48589516,\n",
       "        1375134.13529344, 1375121.87775884, 1375112.0540431 ,\n",
       "        1375104.42321747, 1375098.63562844, 1375091.81051264,\n",
       "        1375083.61607152, 1375076.0835285 , 1375067.92254357,\n",
       "        1375060.66691547, 1375049.59534267, 1375037.63800297,\n",
       "        1375030.21135064, 1375024.49261574, 1375018.85939875,\n",
       "        1375013.18526316, 1375006.21366842, 1374999.2543766 ,\n",
       "        1374993.06687811, 1374983.85731195, 1374974.0572072 ,\n",
       "        1374962.95670856, 1374953.69154402, 1374948.82689726,\n",
       "        1374944.53569454, 1374938.76617849, 1374932.47636508,\n",
       "        1374928.80470638, 1374925.79577386, 1374922.68014614,\n",
       "        1374919.28619292, 1374915.28357793, 1374911.15358359,\n",
       "        1374905.15974889, 1374896.25495209, 1374887.28145853,\n",
       "        1374880.08905586, 1374872.89621789, 1374868.16960803,\n",
       "        1374864.70035978, 1374861.47866555, 1374857.30847092,\n",
       "        1374849.75750993, 1374839.20462005, 1374825.40127861,\n",
       "        1374817.59696756, 1374810.64865823, 1374805.79709912,\n",
       "        1374800.2866402 , 1374794.87438328, 1374791.07030324,\n",
       "        1374786.81797704, 1374782.93682905, 1374779.09416213,\n",
       "        1374776.03344716, 1374773.19815333, 1374770.69197245,\n",
       "        1374768.33511986, 1374764.8345208 , 1374759.08107817,\n",
       "        1374753.1430372 , 1374748.93635989, 1374745.21559431,\n",
       "        1374738.27415087, 1374729.04451854, 1374723.71803397,\n",
       "        1374718.75085271, 1374713.45823646, 1374708.19101635,\n",
       "        1374702.32633905, 1374695.04960055, 1374687.56780309,\n",
       "        1374681.0425682 , 1374676.20420097, 1374671.07758718,\n",
       "        1374663.85545231, 1374656.41319637, 1374650.09209789,\n",
       "        1374642.41097637]))"
      ]
     },
     "execution_count": 7,
     "metadata": {},
     "output_type": "execute_result"
    }
   ],
   "source": [
    "hmm.train(X=None, Y=data, indices=T_t)"
   ]
  },
  {
   "attachments": {},
   "cell_type": "markdown",
   "metadata": {},
   "source": [
    "## Inspect model\n",
    "\n",
    "We then inspect some interesting aspects of the model: the transition probabilities, the state means, and the state covariances."
   ]
  },
  {
   "cell_type": "code",
   "execution_count": 8,
   "metadata": {},
   "outputs": [],
   "source": [
    "K = hmm.hyperparameters[\"K\"] # the number of states\n",
    "q = data.shape[1] # the number of parcels/channels\n",
    "TP = np.zeros(shape=(K, K))\n",
    "TP = hmm.P # the transition probability matrix\n",
    "state_means = np.zeros(shape=(q, K))\n",
    "state_means = hmm.get_means() # the state means in the shape (no. features, no. states)\n",
    "state_FC = np.zeros(shape=(q, q, K))\n",
    "for k in range(K):\n",
    "    state_FC[:,:,k] = hmm.get_covariance_matrix(k=k) # the state covariance matrices in the shape (no. features, no. features, no. states)"
   ]
  },
  {
   "attachments": {},
   "cell_type": "markdown",
   "metadata": {},
   "source": [
    "## Plot results \n",
    "\n",
    "> For more plotting options, refer to the functions in the module called [Graphics](../../glhmm/graphics.py)\n",
    "\n",
    "Plot transition probability matrix. Note that self-transitions are usually very likely so there should be a strong diagonal pattern"
   ]
  },
  {
   "cell_type": "code",
   "execution_count": 9,
   "metadata": {},
   "outputs": [
    {
     "data": {
      "image/png": "[encoded data removed]",
      "text/plain": [
       "<Figure size 640x480 with 2 Axes>"
      ]
     },
     "metadata": {},
     "output_type": "display_data"
    }
   ],
   "source": [
    "plt.imshow(TP)\n",
    "plt.colorbar()\n",
    "plt.show()"
   ]
  },
  {
   "attachments": {},
   "cell_type": "markdown",
   "metadata": {},
   "source": [
    "Plot state means. This will show the states on the x-axis, each parcel/channel on the y-axis, and the mean activation of each parcel in each state as the color intensity."
   ]
  },
  {
   "cell_type": "code",
   "execution_count": 10,
   "metadata": {},
   "outputs": [
    {
     "data": {
      "image/png": "[encoded data removed]",
      "text/plain": [
       "<Figure size 640x480 with 2 Axes>"
      ]
     },
     "metadata": {},
     "output_type": "display_data"
    }
   ],
   "source": [
    "plt.imshow(state_means)\n",
    "plt.colorbar()\n",
    "plt.show()"
   ]
  },
  {
   "attachments": {},
   "cell_type": "markdown",
   "metadata": {},
   "source": [
    "Plot covariance matrix (i.e. FC) of state 1"
   ]
  },
  {
   "cell_type": "code",
   "execution_count": 11,
   "metadata": {},
   "outputs": [
    {
     "data": {
      "image/png": "[encoded data removed]",
      "text/plain": [
       "<Figure size 640x480 with 2 Axes>"
      ]
     },
     "metadata": {},
     "output_type": "display_data"
    }
   ],
   "source": [
    "plt.imshow(state_FC[:,:,0])\n",
    "plt.colorbar()\n",
    "plt.show()"
   ]
  },
  {
   "cell_type": "markdown",
   "metadata": {},
   "source": [
    "## Relations to behaviour \n",
    "\n",
    "After estimating an HMM, we can explore its connections with an external variable not initially considered in the model. This could involve tasks like predicting age from subject-specific HMMs based on neuroimaging data or examining correlations with physiological factors.<br>\n",
    "Our toolbox supports these types of analyses in the module called [Prediction](../../glhmm/prediction.py) and [Statistics](../../glhmm/statistics.py)\n",
    "\n",
    "### Prediction\n",
    "This module enables the utilization of individual brain activity patterns for various applications, including predictions (such as cognitive abilities) and classifications (of subjects or clinical groups, for example). For a tutorial showcasing this, see [here](./prediction_tutorial.ipynb)\n",
    "\n",
    "### Statistics\n",
    "This module provides powerful permutation testing analysis, whcih allows for statistical significance assessment without data distribution assumptions. It supports various test types, such as between- and within-session/subject tests. Users can choose between permutation testing with regression or correlation for a wide range of research questions. For a tutorial demonstrating the application of testing see [here](./statistics_tutorial.ipynb) "
   ]
  }
 ],
 "metadata": {
  "kernelspec": {
   "display_name": "glhmm",
   "language": "python",
   "name": "python3"
  },
  "language_info": {
   "codemirror_mode": {
    "name": "ipython",
    "version": 3
   },
   "file_extension": ".py",
   "mimetype": "text/x-python",
   "name": "python",
   "nbconvert_exporter": "python",
   "pygments_lexer": "ipython3",
   "version": "3.10.7"
  },
  "orig_nbformat": 4
 },
 "nbformat": 4,
 "nbformat_minor": 2
}
