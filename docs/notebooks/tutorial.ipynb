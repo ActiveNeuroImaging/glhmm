{
 "cells": [
  {
   "attachments": {},
   "cell_type": "markdown",
   "metadata": {},
   "source": [
    "# Tutorial\n",
    "\n",
    "GLHMM is a Python toolbox designed for neuroscience applications, specifically focusing on Hidden Markov Models ([HMM](../../docs/glossary.md)).\n",
    "\n",
    "GLHMM supports multiple data modalities, including fMRI, EEG, MEG and ECoG, and offers a comprehensive set of HMMs tailored for different data types and analysis goals:\n",
    "\n",
    "- The **Gaussian** distribution is used in fMRI and other neuroimaging modalities.\n",
    "- The **Wishart** distribution is employed in fMRI to specifically focus on changes in connectivity (covariance).\n",
    "- The **Time-delay embedded** distribution is applied to whole-brain electrophysiological data (MEG or EEG), which, based on the Gaussian distribution, can also capture spectral modulations in the data.\n",
    "- The **Autoregressive** models provide a more detailed spectral description for electrophysiological data with a limited number of channels.\n",
    "- The **Regression-based decoding** models, such as the temporal unconstrained decoding model, describe the dynamic relationship between brain activity and ongoing stimuli.\n",
    "- The **Encoding** models emphasize the spatial interpretation of brain activity in relation to stimuli."
   ]
  },
  {
   "cell_type": "markdown",
   "metadata": {},
   "source": [
    "\n",
    "```{include} /example1/example1.ipynb\n",
    "```"
   ]
  }
 ],
 "metadata": {
  "kernelspec": {
   "display_name": "Python 3",
   "language": "python",
   "name": "python3"
  },
  "language_info": {
   "codemirror_mode": {
    "name": "ipython",
    "version": 3
   },
   "file_extension": ".py",
   "mimetype": "text/x-python",
   "name": "python",
   "nbconvert_exporter": "python",
   "pygments_lexer": "ipython3",
   "version": "3.8.16 (default, Jan 10 2023, 15:23:34) \n[GCC 9.4.0]"
  },
  "orig_nbformat": 4,
  "vscode": {
   "interpreter": {
    "hash": "9ac03a0a6051494cc606d484d27d20fce22fb7b4d169f583271e11d5ba46a56e"
   }
  }
 },
 "nbformat": 4,
 "nbformat_minor": 2
}
